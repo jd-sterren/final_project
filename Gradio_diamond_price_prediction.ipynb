{
 "cells": [
  {
   "cell_type": "code",
   "execution_count": 20,
   "metadata": {},
   "outputs": [],
   "source": [
    "import pandas as pd \n",
    "import numpy as np\n",
    "import seaborn as sns\n",
    "import matplotlib.pyplot as plt\n",
    "import statsmodels.api as sm\n",
    "from statsmodels.formula.api import ols\n",
    "from sklearn.model_selection import train_test_split\n",
    "from sklearn.preprocessing import OneHotEncoder, LabelEncoder\n",
    "from sklearn.preprocessing import MinMaxScaler\n",
    "from sklearn.linear_model import LinearRegression, LogisticRegression\n",
    "from sklearn.neighbors import KNeighborsRegressor, KNeighborsClassifier\n",
    "from sklearn.tree import DecisionTreeClassifier\n",
    "from sklearn.ensemble import RandomForestClassifier, RandomForestRegressor, ExtraTreesRegressor, AdaBoostRegressor\n",
    "from sklearn.metrics import r2_score, mean_absolute_error\n",
    "from sklearn.model_selection import GridSearchCV\n",
    "import tensorflow as tf\n",
    "from tensorflow import keras\n",
    "from kerastuner import HyperModel\n",
    "from tensorflow.keras import backend as K\n",
    "import gradio as gr"
   ]
  },
  {
   "cell_type": "code",
   "execution_count": 21,
   "metadata": {},
   "outputs": [],
   "source": [
    "# Define R2 since not in keras and utilized in model\n",
    "\n",
    "def r_squared(y_true, y_pred):\n",
    "    y_true = tf.cast(y_true, tf.float32)\n",
    "    SS_res = K.sum(K.square(y_true - y_pred)) \n",
    "    SS_tot = K.sum(K.square(y_true - K.mean(y_true))) \n",
    "    return (1 - SS_res / (SS_tot + K.epsilon()))"
   ]
  },
  {
   "cell_type": "code",
   "execution_count": 22,
   "metadata": {},
   "outputs": [],
   "source": [
    "# Load in model \n",
    "model = keras.models.load_model('diamond_price_prediction_nn_model.keras', custom_objects={'r_squared': r_squared})"
   ]
  },
  {
   "cell_type": "code",
   "execution_count": 23,
   "metadata": {},
   "outputs": [],
   "source": [
    "# Manually create mappings based on how LabelEncoders were fit\n",
    "cut_map = {'Fair': 0, 'Good cut': 1, 'Very Good': 4, 'Premium': 3, 'Ideal': 2}\n",
    "color_map = {'D': 0, 'E': 1, 'F': 2, 'G': 3, 'H': 4, 'I': 5, 'J': 6}\n",
    "clarity_map = {'I1': 0, 'IF': 1, 'SI1': 2, 'SI2': 3, 'VS1': 4, 'VS2': 5, 'VVS1': 6, 'VVS2': 7}"
   ]
  },
  {
   "cell_type": "code",
   "execution_count": 24,
   "metadata": {},
   "outputs": [],
   "source": [
    "# Define the min and max values from scaling done in model development\n",
    "min_values = np.array([ 0.2, 0, 0, 0, 43, 43, 3.73, 3.68, 1.07])\n",
    "range_values = np.array([4.81, 4, 6, 7, 36, 52, 7.01, 55.2, 30.73]) "
   ]
  },
  {
   "cell_type": "code",
   "execution_count": 25,
   "metadata": {},
   "outputs": [],
   "source": [
    "# Define prediction function\n",
    "def predict(carat, cut, color, clarity, depth, table, x, y, z):\n",
    "    # Safely get values from maps with a default if missing\n",
    "    cut_encoded = cut_map.get(cut)\n",
    "    color_encoded = color_map.get(color)\n",
    "    clarity_encoded = clarity_map.get(clarity)\n",
    "\n",
    "    inputs = np.array([[carat, cut_encoded, color_encoded, clarity_encoded, depth, table, x, y, z]])\n",
    "    scaled_inputs = (inputs - min_values) / range_values\n",
    "    prediction = model.predict(scaled_inputs)\n",
    "    return prediction[0][0]"
   ]
  },
  {
   "cell_type": "code",
   "execution_count": 26,
   "metadata": {},
   "outputs": [
    {
     "name": "stderr",
     "output_type": "stream",
     "text": [
      "/Users/samuelvincentneal/anaconda3/envs/dev/lib/python3.10/site-packages/gradio/blocks.py:626: UserWarning: Cannot load huggingface. Caught Exception: 404 Client Error: Not Found for url: https://huggingface.co/api/spaces/huggingface (Request ID: Root=1-66206d27-70274cdc6c4c078a44e66f98;cb31188a-251e-404d-b4cf-9d1fae6a6c12)\n",
      "\n",
      "Sorry, we can't find the page you are looking for.\n",
      "  warnings.warn(f\"Cannot load {theme}. Caught Exception: {str(e)}\")\n"
     ]
    },
    {
     "name": "stdout",
     "output_type": "stream",
     "text": [
      "Running on local URL:  http://127.0.0.1:7863\n",
      "\n",
      "To create a public link, set `share=True` in `launch()`.\n"
     ]
    },
    {
     "data": {
      "text/html": [
       "<div><iframe src=\"http://127.0.0.1:7863/\" width=\"100%\" height=\"500\" allow=\"autoplay; camera; microphone; clipboard-read; clipboard-write;\" frameborder=\"0\" allowfullscreen></iframe></div>"
      ],
      "text/plain": [
       "<IPython.core.display.HTML object>"
      ]
     },
     "metadata": {},
     "output_type": "display_data"
    },
    {
     "data": {
      "text/plain": []
     },
     "execution_count": 26,
     "metadata": {},
     "output_type": "execute_result"
    }
   ],
   "source": [
    "iface = gr.Interface(\n",
    "    fn=predict,\n",
    "    inputs=[\n",
    "        gr.Number(label='carat', value=''),\n",
    "        gr.Dropdown(label=\"cut\", choices=list(cut_map.keys())),\n",
    "        gr.Dropdown(label=\"color\", choices=list(color_map.keys())),\n",
    "        gr.Dropdown(label=\"clarity\", choices=list(clarity_map.keys())),\n",
    "        gr.Number(label=\"depth\", value=''),\n",
    "        gr.Number(label=\"table\", value=''),\n",
    "        gr.Number(label=\"x\", value=''),\n",
    "        gr.Number(label=\"y\", value=''),\n",
    "        gr.Number(label=\"z\", value='')\n",
    "    ],\n",
    "    outputs=gr.Textbox(label=\"Predicted Price\", lines=2),\n",
    "    title=\"Diamond Price Predictor\",\n",
    "    description=\"Enter the attributes of the diamond to predict its price.\",\n",
    "    theme=\"huggingface\"\n",
    ")\n",
    "iface.launch()"
   ]
  },
  {
   "cell_type": "code",
   "execution_count": null,
   "metadata": {},
   "outputs": [],
   "source": []
  }
 ],
 "metadata": {
  "kernelspec": {
   "display_name": "dev",
   "language": "python",
   "name": "python3"
  },
  "language_info": {
   "codemirror_mode": {
    "name": "ipython",
    "version": 3
   },
   "file_extension": ".py",
   "mimetype": "text/x-python",
   "name": "python",
   "nbconvert_exporter": "python",
   "pygments_lexer": "ipython3",
   "version": "3.10.13"
  }
 },
 "nbformat": 4,
 "nbformat_minor": 2
}
